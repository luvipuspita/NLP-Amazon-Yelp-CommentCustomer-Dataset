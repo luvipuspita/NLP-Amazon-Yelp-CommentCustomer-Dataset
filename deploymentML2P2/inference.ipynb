{
 "cells": [
  {
   "cell_type": "markdown",
   "id": "c905ba79",
   "metadata": {},
   "source": [
    "## Tabular Features"
   ]
  },
  {
   "cell_type": "code",
   "execution_count": 1,
   "id": "fac41fe9",
   "metadata": {},
   "outputs": [],
   "source": [
    "text = [['price reasonable service great .'], \n",
    "        ['believe every one see movie think people outside south africa understand past attempted truth reconciliation process .'], \n",
    "        ['sushi strip , place go .'], ['truly , truly bad film .'],\n",
    "        ['high-quality chicken chicken caesar salad .'],\n",
    "        ['excellent .'],\n",
    "        ['director neil labute uses brutal violence seperate dreams reality , along touching drama , hilarious comedy , never tell going happen next .'],\n",
    "        ['recently problems could stay connected 10 minutes disconnected .'],\n",
    "        ['one worst shows time .'],\n",
    "        ['earbud piece breaks easily .'],\n",
    "        ['course , acting blah .'],\n",
    "        [\"best fish 've ever life !\"],\n",
    "        ['almost songs cover girl old-fashioned tuneful .'],\n",
    "        [\"acting like watching wooden puppets moving around reading book , 's bad .\"],\n",
    "        ['back !'],\n",
    "        [\"also , 's real treat see anthony quinn playing crazy horse .\"],\n",
    "        ['done second movie .'],\n",
    "        [', plot .'],\n",
    "        ['company charge restocking fee still given refund back .'],\n",
    "        [\"'ve seen soap operas intelligent movie .\"],\n",
    "        [\"( n't busy either ) also , building freezing cold .\"],\n",
    "        ['food came , disappointment ensued .'],\n",
    "        ['redeeming quality restaurant inexpensive .'],\n",
    "        ['igo chargers tips really great .'],\n",
    "        ['great deal .'],\n",
    "        [\"killer , n't expect anything original even remotely frightening .\"],\n",
    "        ['obviously terrible customer service , get pay .'],\n",
    "        ['interesting part town , place amazing .'],\n",
    "        ['love device .'],\n",
    "        ['han nan chicken also tasty .'],\n",
    "        ['chicken dishes ok , beef like shoe leather .'],\n",
    "        ['waited forty five minutes vain .'],\n",
    "        ['even take self portraits outside ( exterior ) display , cool .'],\n",
    "        ['great case price !'],\n",
    "        ['great value .']]"
   ]
  },
  {
   "cell_type": "code",
   "execution_count": 2,
   "id": "04a8a7af",
   "metadata": {},
   "outputs": [],
   "source": [
    "import json\n",
    "\n",
    "input_data_json = json.dumps({\n",
    "    \"signature_name\": \"serving_default\",\n",
    "    \"instances\": text\n",
    "})"
   ]
  },
  {
   "cell_type": "code",
   "execution_count": 3,
   "id": "749541b9",
   "metadata": {},
   "outputs": [],
   "source": [
    "import requests\n",
    "\n",
    "URL = \"https://cust-rev.herokuapp.com/v1/models/customerreview:predict\"\n",
    "response = requests.post(URL, data=input_data_json)\n",
    "response.raise_for_status() # raise an exception in case of error\n",
    "response = response.json()"
   ]
  },
  {
   "cell_type": "code",
   "execution_count": 5,
   "id": "6f99ca3b",
   "metadata": {},
   "outputs": [],
   "source": [
    "import numpy as np\n",
    "\n",
    "np.argmax(response['predictions'][22])"
   ]
  },
  {
   "cell_type": "markdown",
   "id": "2b7bd617",
   "metadata": {},
   "source": [
    "## Image Features"
   ]
  },
  {
   "cell_type": "code",
   "execution_count": 55,
   "id": "ac72503a",
   "metadata": {},
   "outputs": [],
   "source": [
    "# for res in result['predictions']:\n",
    "#     if res[0] > 0.5:\n",
    "#         print(\"Yes\")\n",
    "#     else:\n",
    "#         print(\"No\")"
   ]
  },
  {
   "cell_type": "code",
   "execution_count": 31,
   "id": "5ff378ae",
   "metadata": {},
   "outputs": [],
   "source": [
    "# import requests\n",
    "# import cv2\n",
    "# import json\n",
    "# import numpy as np"
   ]
  },
  {
   "cell_type": "code",
   "execution_count": 32,
   "id": "47fc6da6",
   "metadata": {},
   "outputs": [],
   "source": [
    "# image = cv2.imread(\"image.jpg\")\n",
    "# image = cv2.cvtColor(image, cv2.COLOR_BGR2RGB)"
   ]
  },
  {
   "cell_type": "code",
   "execution_count": 33,
   "id": "a797a525",
   "metadata": {},
   "outputs": [],
   "source": [
    "# image = cv2.resize(image, (224, 224))\n",
    "# image = np.expand_dims(image, axis=0)"
   ]
  },
  {
   "cell_type": "code",
   "execution_count": 34,
   "id": "1a86a18d",
   "metadata": {},
   "outputs": [],
   "source": [
    "# input_data_json = json.dumps({\n",
    "#     \"signature_name\": \"serving_default\",\n",
    "# #     \"instances\": image.tolist(),\n",
    "# })"
   ]
  },
  {
   "cell_type": "code",
   "execution_count": 35,
   "id": "68757f15",
   "metadata": {},
   "outputs": [],
   "source": [
    "# URL = 'http://localhost:8501/v1/models/motogp:predict'\n",
    "# response = requests.post(URL, data=input_data_json)\n",
    "# response.raise_for_status() # raise an exception in case of error\n",
    "# response = response.json()"
   ]
  },
  {
   "cell_type": "code",
   "execution_count": 36,
   "id": "282a7b19",
   "metadata": {},
   "outputs": [],
   "source": [
    "# np.argmax(response['predictions'][0])"
   ]
  },
  {
   "cell_type": "code",
   "execution_count": null,
   "id": "727d9768",
   "metadata": {},
   "outputs": [],
   "source": []
  }
 ],
 "metadata": {
  "kernelspec": {
   "display_name": "Python 3 (ipykernel)",
   "language": "python",
   "name": "python3"
  },
  "language_info": {
   "codemirror_mode": {
    "name": "ipython",
    "version": 3
   },
   "file_extension": ".py",
   "mimetype": "text/x-python",
   "name": "python",
   "nbconvert_exporter": "python",
   "pygments_lexer": "ipython3",
   "version": "3.9.7"
  }
 },
 "nbformat": 4,
 "nbformat_minor": 5
}
